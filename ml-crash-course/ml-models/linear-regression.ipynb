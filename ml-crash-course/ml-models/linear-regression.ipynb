{
 "cells": [
  {
   "cell_type": "markdown",
   "id": "fe7e3fb8",
   "metadata": {},
   "source": [
    "* Linear Regression is a statistical technique used to find the relationship between variables\n",
    "* In ML context, linear regression finds the relationship between features and a label\n",
    "* In algebraic terms, the model is defined as y = mx + b\n",
    "    * y is the value we want to predict\n",
    "    * m is the slope of the line\n",
    "    * x is the input value\n",
    "    * b is the y-intercept\n",
    "* In ML terms, the model is defined as y' = b + w1*x1\n",
    "    * y' is the predicted value\n",
    "    * b is the bias term\n",
    "    * w1 is the weight for feature x1\n",
    "    * x1 is the input value"
   ]
  },
  {
   "cell_type": "markdown",
   "id": "8a84db53",
   "metadata": {},
   "source": [
    "<img src=\"../pics/linear-equation.png\" alt=\"Mathematical representation of a linear model\" width=\"300\"/>"
   ]
  }
 ],
 "metadata": {
  "language_info": {
   "name": "python"
  }
 },
 "nbformat": 4,
 "nbformat_minor": 5
}
