{
 "cells": [
  {
   "cell_type": "markdown",
   "id": "d19c30c2",
   "metadata": {},
   "source": [
    "1.1 - Bayes' Rule\n",
    "* Bayesian statistics mostly involves conditional probability (the probability of an event given that another event has occured)\n",
    "* Bayes' Rule - the conditional probability of A given B is given by P(A|B) = P(A & B) / P(B)\n",
    "* False positive - test returns positive while the truth is negative\n",
    "* False negative - test returns negative while the truth is positive\n",
    "* Bayes' updating - process of using Bayes' rule to update a probability based on an event affecting it\n",
    "* Prior - the probability of an event before any evidence is taken into account\n",
    "* Posterior - the probability of an event after evidence is taken into account\n",
    "* The frequentist definition of probability is based on an observation of a large number of trials\n",
    "* The Bayesian definition of probability must be consistent with all beliefs"
   ]
  },
  {
   "cell_type": "markdown",
   "id": "f18aa424",
   "metadata": {},
   "source": [
    "1.2 - Inference for a Proportion\n",
    "* Confidence level for the frequentist approach - proportion of random of samples from the same population the produced confidence intervals which contain the true population parameter\n",
    "* Confidence level for the Bayesian approach - range for which the Bayesian thinks that the probability of including the true value is 0.95\n",
    "    * A Bayesian can say that there is a 95% chance that the credible interval contains the true parameter value\n",
    "* Having a good prior is important for meaningful inference, but a bad prior can be overcome with a large sample\n"
   ]
  },
  {
   "cell_type": "markdown",
   "id": "88d54f39",
   "metadata": {},
   "source": [
    "1.3 - Frequentist vs. Bayesian Inference \n",
    "* Frequentist method is highly sensitive to the null hypothesis\n",
    "* In the Bayesian method results are the same regardless of which order the models are evaluated"
   ]
  }
 ],
 "metadata": {
  "language_info": {
   "name": "python"
  }
 },
 "nbformat": 4,
 "nbformat_minor": 5
}
