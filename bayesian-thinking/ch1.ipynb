{
 "cells": [
  {
   "cell_type": "markdown",
   "id": "d19c30c2",
   "metadata": {},
   "source": [
    "1.1 Bayes' Rule\n",
    "* Bayesian statistics mostly involves conditional probability (the probability of an event given that another event has occured)\n",
    "* Bayes' Rule - the conditional probability of A given B is given by P(A|B) = P(A & B) / P(B)\n",
    "* False positive - test returns positive while the truth is negative\n",
    "* False negative - test returns negative while the truth is positive\n",
    "* Bayes' updating - process of using Bayes' rule to update a probability based on an event affecting it\n",
    "* Prior - the probability of an event before any evidence is taken into account\n",
    "* Posterior - the probability of an event after evidence is taken into account\n"
   ]
  }
 ],
 "metadata": {
  "language_info": {
   "name": "python"
  }
 },
 "nbformat": 4,
 "nbformat_minor": 5
}
