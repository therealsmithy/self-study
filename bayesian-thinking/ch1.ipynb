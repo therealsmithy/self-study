{
 "cells": [
  {
   "cell_type": "markdown",
   "id": "d19c30c2",
   "metadata": {},
   "source": []
  }
 ],
 "metadata": {
  "language_info": {
   "name": "python"
  }
 },
 "nbformat": 4,
 "nbformat_minor": 5
}
