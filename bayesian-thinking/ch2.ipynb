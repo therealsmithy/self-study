{
 "cells": [
  {
   "cell_type": "markdown",
   "id": "498ba3fb",
   "metadata": {},
   "source": [
    "2.1 - Continuous Variables and Eliciting Probability Distributions\n",
    "* Discrete random variable - the set of possible values that a random variable can take are separated points\n",
    "* Continuous random variable - the set of possible values that a random variable can take is in some (possibly infinite) interval\n",
    "* When a random variable is discrete, it has a probabilitiy mass function\n",
    "    * Probability mass function - the probability that the random variable takes each of the possible values\n",
    "* When a random variable is continuous, it has probability zero of taking any single value\n",
    "* A continous random variable has a probability density function\n",
    "    * The probability of finding a value within an interval on the PDF is the area under the curve of the PDF over that interval\n",
    "\n"
   ]
  }
 ],
 "metadata": {
  "language_info": {
   "name": "python"
  }
 },
 "nbformat": 4,
 "nbformat_minor": 5
}
