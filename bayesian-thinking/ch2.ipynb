{
 "cells": [
  {
   "cell_type": "markdown",
   "id": "498ba3fb",
   "metadata": {},
   "source": [
    "2.1 - Continuous Variables and Eliciting Probability Distributions\n",
    "* Discrete random variable - the set of possible values that a random variable can take are separated points\n",
    "* Continuous random variable - the set of possible values that a random variable can take is in some (possibly infinite) interval\n",
    "* When a random variable is discrete, it has a probabilitiy mass function\n",
    "    * Probability mass function - the probability that the random variable takes each of the possible values\n",
    "* When a random variable is continuous, it has probability zero of taking any single value\n",
    "* A continous random variable has a probability density function\n",
    "    * The probability of finding a value within an interval on the PDF is the area under the curve of the PDF over that interval\n",
    "* Difference between frequentist and Bayesian :\n",
    "    * There are two ways to elicit a probability that your cousin will get married\n",
    "    * Frequentist - go to U.S. Census record and determine what proportion of people get married\n",
    "    * Bayesian - thinks \"My cousin is brilliant attractive and fun. The probability that my cousin gets married is really high\" and assigns a value based on that\n",
    "* Bayesian will seek to express their belief about the value of p through a probability distribution, a very flexible family of distributions for this is the beta family\n",
    "    * A member of the beta family is defined by two parameters, $\\alpha$ and $\\beta$\n",
    "    * p ~ beta($\\alpha$, $\\beta$)\n",
    "    * PDF is f(p) = $\\frac{\\Gamma(\\alpha + \\beta)}{\\Gamma(\\alpha)\\Gamma(\\beta)}p^{\\alpha - 1}(1 - p)^{\\beta - 1}$\n",
    "\n"
   ]
  }
 ],
 "metadata": {
  "language_info": {
   "name": "python"
  }
 },
 "nbformat": 4,
 "nbformat_minor": 5
}
